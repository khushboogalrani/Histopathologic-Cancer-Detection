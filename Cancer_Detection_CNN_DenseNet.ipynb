{
  "nbformat": 4, 
  "nbformat_minor": 0,
  "metadata": {
    "colab": {
      "provenance": [],
      "collapsed_sections": [
        "9qidSIt4Kje_",
        "6lpLQfwAOuqu",
        "9lI5ZyvpP6Zr",
        "ZweJOq8ROfSp",
        "vOTd0N9OQ00F"
      ],
      "gpuType": "T4"
    },
    "kernelspec": {
      "name": "python3",
      "display_name": "Python 3"
    },
    "language_info": {
      "name": "python"
    },
    "accelerator": "GPU"
  },
  "cells": [
    {
      "cell_type": "markdown",
      "source": [
        "# Imports"
      ],
      "metadata": {
        "id": "AUXeCv_yKIJj"
      }
    },
    {
      "cell_type": "code",
      "source": [
        "!pip install torcheval\n",
        "!pip install torchinfo\n",
        "!pip install torchvision"
      ],
      "metadata": {
        "id": "EcvkON6TLurq",
        "colab": {
          "base_uri": "https://localhost:8080/"
        },
        "outputId": "e0813cb7-b28c-4cea-a9f6-2f8d3ea56b0b"
      },
      "execution_count": null,
      "outputs": [
        {
          "metadata": {
            "tags": null
          },
          "name": "stdout",
          "output_type": "stream",
          "text": [
            "Requirement already satisfied: torcheval in /usr/local/lib/python3.10/dist-packages (0.0.7)\n",
            "Requirement already satisfied: typing-extensions in /usr/local/lib/python3.10/dist-packages (from torcheval) (4.12.2)\n",
            "Requirement already satisfied: torchinfo in /usr/local/lib/python3.10/dist-packages (1.8.0)\n",
            "Requirement already satisfied: torchvision in /usr/local/lib/python3.10/dist-packages (0.20.1+cu121)\n",
            "Requirement already satisfied: numpy in /usr/local/lib/python3.10/dist-packages (from torchvision) (1.26.4)\n",
            "Requirement already satisfied: torch==2.5.1 in /usr/local/lib/python3.10/dist-packages (from torchvision) (2.5.1+cu121)\n",
            "Requirement already satisfied: pillow!=8.3.*,>=5.3.0 in /usr/local/lib/python3.10/dist-packages (from torchvision) (11.0.0)\n",
            "Requirement already satisfied: filelock in /usr/local/lib/python3.10/dist-packages (from torch==2.5.1->torchvision) (3.16.1)\n",
            "Requirement already satisfied: typing-extensions>=4.8.0 in /usr/local/lib/python3.10/dist-packages (from torch==2.5.1->torchvision) (4.12.2)\n",
            "Requirement already satisfied: networkx in /usr/local/lib/python3.10/dist-packages (from torch==2.5.1->torchvision) (3.4.2)\n",
            "Requirement already satisfied: jinja2 in /usr/local/lib/python3.10/dist-packages (from torch==2.5.1->torchvision) (3.1.4)\n",
            "Requirement already satisfied: fsspec in /usr/local/lib/python3.10/dist-packages (from torch==2.5.1->torchvision) (2024.10.0)\n",
            "Requirement already satisfied: sympy==1.13.1 in /usr/local/lib/python3.10/dist-packages (from torch==2.5.1->torchvision) (1.13.1)\n",
            "Requirement already satisfied: mpmath<1.4,>=1.1.0 in /usr/local/lib/python3.10/dist-packages (from sympy==1.13.1->torch==2.5.1->torchvision) (1.3.0)\n",
            "Requirement already satisfied: MarkupSafe>=2.0 in /usr/local/lib/python3.10/dist-packages (from jinja2->torch==2.5.1->torchvision) (3.0.2)\n"
          ]
        }
      ]
    },
    {
      "cell_type": "code",
      "execution_count": null,
      "metadata": {
        "id": "LpkrlINcJ4uO"
      },
      "outputs": [],
      "source": [
        "import argparse\n",
        "import logging\n",
        "import sys\n",
        "from pathlib import Path\n",
        "import torchvision.transforms as T\n",
        "from sklearn.metrics import confusion_matrix\n",
        "import seaborn as sn\n",
        "import pandas as pd\n",
        "import torch\n",
        "import torch.nn as nn\n",
        "import torch.nn.functional as F\n",
        "from torch.utils.data import Dataset\n",
        "import matplotlib.pyplot as plt\n",
        "from torch import optim\n",
        "from torch.utils.data import DataLoader, random_split\n",
        "from tqdm import tqdm\n",
        "from torchvision import transforms\n",
        "from torcheval.metrics.classification import MulticlassRecall\n",
        "from torcheval.metrics import MulticlassPrecision\n",
        "from torchinfo import summary\n",
        "from torchvision import models\n",
        "import numpy as np\n",
        "import cv2\n",
        "import os\n",
        "import torch\n",
        "import torch.nn as nn\n",
        "import torch.optim as optim\n",
        "from torch.utils.data import DataLoader, random_split\n",
        "from sklearn.metrics import confusion_matrix\n",
        "import matplotlib.pyplot as plt\n",
        "import seaborn as sns\n",
        "import pandas as pd\n",
        "import numpy as np\n",
        "from tqdm import tqdm\n",
        "from torchsummary import summary\n",
        "from google.colab import drive"
      ]
    },
    {
      "cell_type": "code",
      "source": [
        "drive.mount('/content/drive/')\n",
        "\n",
        "csv_dir = '/content/drive/MyDrive/Dataset/new_train_lable.csv'\n",
        "img_dir = '/content/drive/MyDrive/Dataset/Train/'\n",
        "mean = [0.5401, 0.5045, 0.4845]\n",
        "std = [0.2259, 0.2270, 0.2279]\n",
        "dir_checkpoint = Path('weights')\n",
        "dir_checkpoint.mkdir(parents=True, exist_ok=True)\n",
        "classes = (\"benign\", \"malignant\")"
      ],
      "metadata": {
        "id": "Odr6H8R3KSB8",
        "colab": {
          "base_uri": "https://localhost:8080/"
        },
        "outputId": "97ef2070-0c1c-404b-e068-9f6903c64525"
      },
      "execution_count": null,
      "outputs": [
        {
          "output_type": "stream",
          "name": "stdout",
          "text": [
            "Mounted at /content/drive/\n"
          ]
        }
      ]
    },
    {
      "cell_type": "markdown",
      "source": [
        "# Custom Dataset Class"
      ],
      "metadata": {
        "id": "9qidSIt4Kje_"
      }
    },
    {
      "cell_type": "code",
      "source": [
        "class CustomDataset(Dataset):\n",
        "    def __init__(self, csv_file, root_dir, transform=None):\n",
        "        self.data = pd.read_csv(csv_file)\n",
        "        self.root_dir = root_dir\n",
        "        self.transform = transform\n",
        "\n",
        "    def __len__(self):\n",
        "        return len(self.data)\n",
        "\n",
        "    def __getitem__(self, idx):\n",
        "        img_name = self.data.iloc[idx, 0]\n",
        "        img_path = os.path.join(self.root_dir, img_name + '.tif')\n",
        "\n",
        "        image = cv2.imread(img_path)\n",
        "        if image is None:\n",
        "            raise FileNotFoundError(f\"Image not found at path: {img_path}\")\n",
        "\n",
        "        image = cv2.cvtColor(image, cv2.COLOR_BGR2RGB)\n",
        "\n",
        "        class_label = torch.tensor(self.data.iloc[idx, 1])\n",
        "        sample = {'image': image, 'class': class_label}\n",
        "\n",
        "        if self.transform:\n",
        "            sample['image'] = self.transform(sample['image'])\n",
        "        return sample"
      ],
      "metadata": {
        "id": "G_x7QTeYKlM7"
      },
      "execution_count": null,
      "outputs": []
    },
    {
      "cell_type": "code",
      "source": [
        "data = pd.read_csv(csv_dir)\n",
        "class_counts = data['label'].value_counts()\n",
        "plt.figure(figsize=(8, 6))\n",
        "sns.barplot(x=class_counts.index, y=class_counts.values)\n",
        "plt.title('Class Distribution', fontsize=16)\n",
        "plt.xlabel('Class', fontsize=14)\n",
        "plt.ylabel('Count', fontsize=14)\n",
        "plt.xticks([0, 1], labels=['benign','malignant'], fontsize=12)\n",
        "plt.yticks(fontsize=12)\n",
        "plt.show()"
      ],
      "metadata": {
        "id": "5P9bUmYm7C5F",
        "colab": {
          "base_uri": "https://localhost:8080/"
        },
        "outputId": "1c0b86cd-95db-41e8-fe27-051435fc5739"
      },
      "execution_count": null,
      "outputs": [
        {
          "output_type": "display_data",
          "data": {
            "text/plain": [
              "<Figure size 800x600 with 1 Axes>"
            ],
            "image/png": "[encoded data removed]"
          },
          "metadata": {}
        }
      ]
    },
    {
      "cell_type": "code",
      "source": [
        "image_files = os.listdir(img_dir)\n",
        "num_images = 3\n",
        "fig, axes = plt.subplots(1, num_images, figsize=(20, 5))\n",
        "\n",
        "for i in range(min(num_images, len(image_files))):\n",
        "    img_path = os.path.join(img_dir, image_files[i])\n",
        "    image = cv2.imread(img_path)\n",
        "    if image is None:\n",
        "        continue\n",
        "    image = cv2.cvtColor(image, cv2.COLOR_BGR2RGB)\n",
        "    axes[i].imshow(image)\n",
        "    axes[i].axis('off')\n",
        "    axes[i].set_title(f\"Image {i+1}: {image_files[i]}\")\n",
        "plt.show()\n"
      ],
      "metadata": {
        "id": "byrqtO69dosD",
        "colab": {
          "base_uri": "https://localhost:8080/"
        },
        "outputId": "e77ff82e-5a24-46d3-981b-f6172e57f9a7"
      },
      "execution_count": null,
      "outputs": [
        {
          "output_type": "display_data",
          "data": {
            "text/plain": [
              "<Figure size 2000x500 with 3 Axes>"
            ],
            "image/png": "[encoded data removed]"
          },
          "metadata": {}
        }
      ]
    },
    {
      "cell_type": "markdown",
      "source": [
        "# Custom CNN"
      ],
      "metadata": {
        "id": "6lpLQfwAOuqu"
      }
    },
    {
      "cell_type": "code",
      "source": [
        "class Classifier_CNN(nn.Module):\n",
        "    def __init__(self):\n",
        "        super(Classifier_CNN, self).__init__()\n",
        "\n",
        "        # CNN layers\n",
        "        self.conv1 = nn.Conv2d(in_channels=3, out_channels=32, kernel_size=3, stride=1, padding=1)\n",
        "        self.conv2 = nn.Conv2d(in_channels=32, out_channels=64, kernel_size=3, stride=1, padding=1)\n",
        "        self.conv3 = nn.Conv2d(in_channels=64, out_channels=128, kernel_size=3, stride=1, padding=1)\n",
        "\n",
        "        self.bn1 = nn.BatchNorm2d(32)\n",
        "        self.bn2 = nn.BatchNorm2d(64)\n",
        "        self.bn3 = nn.BatchNorm2d(128)\n",
        "        self.pool = nn.MaxPool2d(kernel_size=2, stride=2)\n",
        "\n",
        "        self.fc1 = nn.Linear(128 * 12 * 12, 512)\n",
        "        self.fc2 = nn.Linear(512, 128)\n",
        "        self.fc3 = nn.Linear(128, 2)\n",
        "\n",
        "        self.relu = nn.ReLU()\n",
        "\n",
        "    def forward(self, img):\n",
        "\n",
        "        x = self.relu(self.bn1(self.conv1(img)))\n",
        "        x = self.pool(x)\n",
        "        x = self.relu(self.bn2(self.conv2(x)))\n",
        "        x = self.pool(x)\n",
        "        x = self.relu(self.bn3(self.conv3(x)))\n",
        "        x = self.pool(x)\n",
        "\n",
        "        x = x.view(x.size(0), -1)\n",
        "\n",
        "        x = self.relu(self.fc1(x))\n",
        "        x = self.relu(self.fc2(x))\n",
        "        x = self.fc3(x)\n",
        "\n",
        "        return x\n"
      ],
      "metadata": {
        "id": "TOjCcbvOOecc"
      },
      "execution_count": null,
      "outputs": []
    },
    {
      "cell_type": "markdown",
      "source": [
        "# Custom CNN Training"
      ],
      "metadata": {
        "id": "9lI5ZyvpP6Zr"
      }
    },
    {
      "cell_type": "code",
      "source": [
        "train_losses_per_epoch_cnn = []\n",
        "val_losses_per_epoch_cnn = []\n",
        "val_accuracies_cnn = []\n",
        "confusion_matrices_cnn = []\n",
        "\n",
        "def train_net_cnn(net,\n",
        "              device,\n",
        "              epochs: int = 5,\n",
        "              num_classes=2,\n",
        "              batch_size: int = 32,\n",
        "              learning_rate: float = 1e-5,\n",
        "              val_percent: float = 0.1,\n",
        "              save_checkpoint: bool = True,\n",
        "              amp: bool = False):\n",
        "\n",
        "    global train_losses_per_epoch_cnn, val_losses_per_epoch_cnn, val_accuracies_cnn, confusion_matrices_cnn\n",
        "\n",
        "    # Data transformations\n",
        "    data_transforms = transforms.Compose([\n",
        "        transforms.ToPILImage(),\n",
        "        transforms.RandomHorizontalFlip(p=0.4),\n",
        "        transforms.RandomVerticalFlip(p=0.4),\n",
        "        transforms.RandomRotation(20),\n",
        "        transforms.ToTensor(),\n",
        "        transforms.Normalize(mean, std)\n",
        "    ])\n",
        "\n",
        "    # Dataset and split\n",
        "    dataset = CustomDataset(csv_dir, root_dir=img_dir, transform=data_transforms)\n",
        "    n_val = int(len(dataset) * val_percent)\n",
        "    n_train = len(dataset) - n_val\n",
        "    train_set, val_set = random_split(dataset, [n_train, n_val], generator=torch.Generator().manual_seed(0))\n",
        "    loader_args = dict(batch_size=batch_size, num_workers=2, pin_memory=True)\n",
        "    train_loader = DataLoader(train_set, shuffle=True, **loader_args)\n",
        "    val_loader = DataLoader(val_set, shuffle=True, drop_last=True, **loader_args)\n",
        "\n",
        "    # Model, optimizer, and scheduler\n",
        "    optimizer = optim.Adam(net.parameters(), lr=learning_rate)\n",
        "    scheduler = optim.lr_scheduler.ReduceLROnPlateau(optimizer, 'max', patience=2, verbose=True)\n",
        "    grad_scaler = torch.cuda.amp.GradScaler(enabled=amp)\n",
        "    criterion = nn.CrossEntropyLoss()\n",
        "\n",
        "    print(f'''Starting training:\n",
        "        Epochs:          {epochs}\n",
        "        Batch size:      {batch_size}\n",
        "        Learning rate:   {learning_rate}\n",
        "        Training size:   {n_train}\n",
        "        Validation size: {n_val}\n",
        "        Checkpoints:     {save_checkpoint}\n",
        "        Device:          {device.type}\n",
        "        Mixed Precision: {amp}\n",
        "    ''')\n",
        "\n",
        "    for epoch in range(1, epochs + 1):\n",
        "        # Training phase\n",
        "        net.train()\n",
        "        epoch_loss = 0\n",
        "        total_correct = 0\n",
        "        total_instances = 0\n",
        "\n",
        "        with tqdm(total=n_train, desc=f'Epoch {epoch}/{epochs}', unit='img') as pbar:\n",
        "            for batch in train_loader:\n",
        "                images = batch['image'].to(device=device, dtype=torch.float32)\n",
        "                true_class = batch['class'].to(device=device)\n",
        "\n",
        "                with torch.cuda.amp.autocast(enabled=amp):\n",
        "                    pred = net(images)\n",
        "                    loss = criterion(pred, true_class)\n",
        "\n",
        "                optimizer.zero_grad()\n",
        "                grad_scaler.scale(loss).backward()\n",
        "                grad_scaler.step(optimizer)\n",
        "                grad_scaler.update()\n",
        "\n",
        "                predictions = torch.argmax(pred, dim=1)\n",
        "                correct_predictions = sum(predictions == true_class).item()\n",
        "                total_correct += correct_predictions\n",
        "                total_instances += len(images)\n",
        "\n",
        "                pbar.update(images.shape[0])\n",
        "                epoch_loss += loss.item()\n",
        "                pbar.set_postfix(loss=loss.item())\n",
        "\n",
        "        train_losses_per_epoch_cnn.append(epoch_loss / len(train_loader))\n",
        "        train_accuracy = total_correct / total_instances\n",
        "        print(f\"Training Accuracy: {train_accuracy:.3f}\")\n",
        "\n",
        "        # Validation phase\n",
        "        val_losses = []\n",
        "        y_pred = []\n",
        "        y_true = []\n",
        "        total_correct = 0\n",
        "        total_instances = 0\n",
        "\n",
        "        net.eval()\n",
        "        with torch.no_grad():\n",
        "            for batch in tqdm(val_loader, desc=\"Validation\", leave=False):\n",
        "                images = batch['image'].to(device=device, dtype=torch.float32)\n",
        "                true_class = batch['class'].to(device=device)\n",
        "\n",
        "                pred = net(images)\n",
        "                loss = criterion(pred, true_class)\n",
        "                val_losses.append(loss.item())\n",
        "\n",
        "                pred_classes = torch.argmax(pred, dim=1).cpu().tolist()\n",
        "                true_classes = true_class.cpu().tolist()\n",
        "                y_pred.extend(pred_classes)\n",
        "                y_true.extend(true_classes)\n",
        "\n",
        "                correct_predictions = sum(p == t for p, t in zip(pred_classes, true_classes))\n",
        "                total_correct += correct_predictions\n",
        "                total_instances += len(images)\n",
        "\n",
        "        val_loss = np.mean(val_losses)\n",
        "        val_accuracy = total_correct / total_instances\n",
        "        val_losses_per_epoch_cnn.append(val_loss)\n",
        "        val_accuracies_cnn.append(val_accuracy)\n",
        "        print(f\"Validation Accuracy: {val_accuracy:.3f}\")\n",
        "\n",
        "        # Generate confusion matrix\n",
        "        cf_matrix = confusion_matrix(y_true, y_pred, labels=range(num_classes))\n",
        "        confusion_matrices_cnn.append(cf_matrix)  # Save for later visualization\n",
        "        df_cm = pd.DataFrame(cf_matrix, index=[f\"Class {i}\" for i in range(num_classes)],\n",
        "                             columns=[f\"Class {i}\" for i in range(num_classes)])\n",
        "        plt.figure(figsize=(8, 6))\n",
        "        sns.heatmap(df_cm, annot=True, fmt='d', cmap='Blues')\n",
        "        plt.title(f'Confusion Matrix - Epoch {epoch}')\n",
        "        plt.xlabel('Predicted')\n",
        "        plt.ylabel('Actual')\n",
        "        plt.savefig(f'confusion_matrix_epoch{epoch}.png')\n",
        "        plt.close()\n",
        "\n",
        "        # Adjust learning rate\n",
        "        scheduler.step(val_accuracy)\n",
        "\n",
        "        # Save checkpoint\n",
        "        if save_checkpoint:\n",
        "            torch.save(net.state_dict(), f'checkpoint_epoch{epoch}.pth')\n",
        "\n",
        "    print(\"Training complete.\")\n"
      ],
      "metadata": {
        "id": "H-EFONhYP_QL"
      },
      "execution_count": null,
      "outputs": []
    },
    {
      "cell_type": "markdown",
      "source": [
        "# DenseNet201 Classifier"
      ],
      "metadata": {
        "id": "ZweJOq8ROfSp"
      }
    },
    {
      "cell_type": "code",
      "source": [
        "class Classifier(nn.Module):\n",
        "    def __init__(self):\n",
        "        super(Classifier, self).__init__()\n",
        "        self.model = models.densenet201(weights='DEFAULT')\n",
        "        self.num_ftrs = self.model.classifier.in_features\n",
        "        self.model.classifier = nn.Linear(self.num_ftrs, 2)\n",
        "        self.soft = nn.Softmax()\n",
        "\n",
        "    def forward(self, img):\n",
        "        out = self.model(img)\n",
        "        out = self.soft(out)\n",
        "        return out"
      ],
      "metadata": {
        "id": "gvO4pIT-Mftm"
      },
      "execution_count": null,
      "outputs": []
    },
    {
      "cell_type": "markdown",
      "source": [
        "# DesnseNet Training"
      ],
      "metadata": {
        "id": "vOTd0N9OQ00F"
      }
    },
    {
      "cell_type": "code",
      "source": [
        "train_losses_per_epoch = []\n",
        "val_losses_per_epoch = []\n",
        "val_accuracies = []\n",
        "confusion_matrices = []\n",
        "\n",
        "def train_net(net,\n",
        "              device,\n",
        "              epochs: int = 5,\n",
        "              num_classes=2,\n",
        "              batch_size: int = 32,\n",
        "              learning_rate: float = 1e-5,\n",
        "              val_percent: float = 0.1,\n",
        "              save_checkpoint: bool = True,\n",
        "              amp: bool = False):\n",
        "\n",
        "    global train_losses_per_epoch, val_losses_per_epoch, val_accuracies, confusion_matrices\n",
        "\n",
        "    # Data transformations\n",
        "    data_transforms = transforms.Compose([\n",
        "        transforms.ToPILImage(),\n",
        "        transforms.RandomHorizontalFlip(p=0.4),\n",
        "        transforms.RandomVerticalFlip(p=0.4),\n",
        "        transforms.RandomRotation(20),\n",
        "        transforms.ToTensor(),\n",
        "        transforms.Normalize(mean, std)\n",
        "    ])\n",
        "\n",
        "    # Dataset and split\n",
        "    dataset = CustomDataset(csv_dir, root_dir=img_dir, transform=data_transforms)\n",
        "    n_val = int(len(dataset) * val_percent)\n",
        "    n_train = len(dataset) - n_val\n",
        "    train_set, val_set = random_split(dataset, [n_train, n_val], generator=torch.Generator().manual_seed(0))\n",
        "    loader_args = dict(batch_size=batch_size, num_workers=2, pin_memory=True)\n",
        "    train_loader = DataLoader(train_set, shuffle=True, **loader_args)\n",
        "    val_loader = DataLoader(val_set, shuffle=True, drop_last=True, **loader_args)\n",
        "\n",
        "    # Model, optimizer, and scheduler\n",
        "    optimizer = optim.Adam(net.parameters(), lr=learning_rate)\n",
        "    scheduler = optim.lr_scheduler.ReduceLROnPlateau(optimizer, 'max', patience=2, verbose=True)\n",
        "    grad_scaler = torch.cuda.amp.GradScaler(enabled=amp)\n",
        "    criterion = nn.CrossEntropyLoss()\n",
        "\n",
        "    print(f'''Starting training:\n",
        "        Epochs:          {epochs}\n",
        "        Batch size:      {batch_size}\n",
        "        Learning rate:   {learning_rate}\n",
        "        Training size:   {n_train}\n",
        "        Validation size: {n_val}\n",
        "        Checkpoints:     {save_checkpoint}\n",
        "        Device:          {device.type}\n",
        "        Mixed Precision: {amp}\n",
        "    ''')\n",
        "\n",
        "    for epoch in range(1, epochs + 1):\n",
        "        # Training phase\n",
        "        net.train()\n",
        "        epoch_loss = 0\n",
        "        total_correct = 0\n",
        "        total_instances = 0\n",
        "\n",
        "        with tqdm(total=n_train, desc=f'Epoch {epoch}/{epochs}', unit='img') as pbar:\n",
        "            for batch in train_loader:\n",
        "                images = batch['image'].to(device=device, dtype=torch.float32)\n",
        "                true_class = batch['class'].to(device=device)\n",
        "\n",
        "                with torch.cuda.amp.autocast(enabled=amp):\n",
        "                    pred = net(images)\n",
        "                    loss = criterion(pred, true_class)\n",
        "\n",
        "                optimizer.zero_grad()\n",
        "                grad_scaler.scale(loss).backward()\n",
        "                grad_scaler.step(optimizer)\n",
        "                grad_scaler.update()\n",
        "\n",
        "                predictions = torch.argmax(pred, dim=1)\n",
        "                correct_predictions = sum(predictions == true_class).item()\n",
        "                total_correct += correct_predictions\n",
        "                total_instances += len(images)\n",
        "\n",
        "                pbar.update(images.shape[0])\n",
        "                epoch_loss += loss.item()\n",
        "                pbar.set_postfix(loss=loss.item())\n",
        "\n",
        "        train_losses_per_epoch.append(epoch_loss / len(train_loader))\n",
        "        train_accuracy = total_correct / total_instances\n",
        "        print(f\"Training Accuracy: {train_accuracy:.3f}\")\n",
        "\n",
        "        # Validation phase\n",
        "        val_losses = []\n",
        "        y_pred = []\n",
        "        y_true = []\n",
        "        total_correct = 0\n",
        "        total_instances = 0\n",
        "\n",
        "        net.eval()\n",
        "        with torch.no_grad():\n",
        "            for batch in tqdm(val_loader, desc=\"Validation\", leave=False):\n",
        "                images = batch['image'].to(device=device, dtype=torch.float32)\n",
        "                true_class = batch['class'].to(device=device)\n",
        "\n",
        "                pred = net(images)\n",
        "                loss = criterion(pred, true_class)\n",
        "                val_losses.append(loss.item())\n",
        "\n",
        "                pred_classes = torch.argmax(pred, dim=1).cpu().tolist()\n",
        "                true_classes = true_class.cpu().tolist()\n",
        "                y_pred.extend(pred_classes)\n",
        "                y_true.extend(true_classes)\n",
        "\n",
        "                correct_predictions = sum(p == t for p, t in zip(pred_classes, true_classes))\n",
        "                total_correct += correct_predictions\n",
        "                total_instances += len(images)\n",
        "\n",
        "        val_loss = np.mean(val_losses)\n",
        "        val_accuracy = total_correct / total_instances\n",
        "        val_losses_per_epoch.append(val_loss)\n",
        "        val_accuracies.append(val_accuracy)\n",
        "        print(f\"Validation Accuracy: {val_accuracy:.3f}\")\n",
        "\n",
        "        # Generate confusion matrix\n",
        "        cf_matrix = confusion_matrix(y_true, y_pred, labels=range(num_classes))\n",
        "        confusion_matrices.append(cf_matrix)  # Save for later visualization\n",
        "        df_cm = pd.DataFrame(cf_matrix, index=[f\"Class {i}\" for i in range(num_classes)],\n",
        "                             columns=[f\"Class {i}\" for i in range(num_classes)])\n",
        "        plt.figure(figsize=(8, 6))\n",
        "        sns.heatmap(df_cm, annot=True, fmt='d', cmap='Blues')\n",
        "        plt.title(f'Confusion Matrix - Epoch {epoch}')\n",
        "        plt.xlabel('Predicted')\n",
        "        plt.ylabel('Actual')\n",
        "        plt.savefig(f'confusion_matrix_epoch{epoch}.png')\n",
        "        plt.close()\n",
        "\n",
        "        # Adjust learning rate\n",
        "        scheduler.step(val_accuracy)\n",
        "\n",
        "        # Save checkpoint\n",
        "        if save_checkpoint:\n",
        "            torch.save(net.state_dict(), f'checkpoint_epoch{epoch}.pth')\n",
        "\n",
        "    print(\"Training complete.\")"
      ],
      "metadata": {
        "id": "OM-C_0UiQ9Z6"
      },
      "execution_count": null,
      "outputs": []
    },
    {
      "cell_type": "markdown",
      "source": [
        "# Vizualization"
      ],
      "metadata": {
        "id": "zmTk7yyCRel8"
      }
    },
    {
      "cell_type": "code",
      "source": [
        "def plot_metrics():\n",
        "    global train_losses_per_epoch_cnn, val_losses_per_epoch_cnn, val_accuracies_cnn\n",
        "    global train_losses_per_epoch, val_losses_per_epoch, val_accuracies\n",
        "\n",
        "    # Loss Cruve DenseNet\n",
        "    plt.figure(figsize=(10, 5))\n",
        "    plt.plot(train_losses_per_epoch, label='Train Loss')\n",
        "    plt.plot(val_losses_per_epoch, label='Validation Loss')\n",
        "    plt.title('Loss Per Epoch DenseNet')\n",
        "    plt.xlabel('Epoch')\n",
        "    plt.ylabel('Loss')\n",
        "    plt.legend()\n",
        "    plt.savefig('loss_curve.png')\n",
        "    plt.show()\n",
        "\n",
        "    # Loss Curve CNN\n",
        "    plt.figure(figsize=(10, 5))\n",
        "    plt.plot(train_losses_per_epoch_cnn, label='Train Loss')\n",
        "    plt.plot(val_losses_per_epoch_cnn, label='Validation Loss')\n",
        "    plt.title('Loss Per Epoch Custom CNN')\n",
        "    plt.xlabel('Epoch')\n",
        "    plt.ylabel('Loss')\n",
        "    plt.legend()\n",
        "    plt.savefig('loss_curve_cnn.png')\n",
        "    plt.show()\n",
        "\n",
        "\n",
        "    # Accuracy Curve CNN\n",
        "    plt.figure(figsize=(10, 5))\n",
        "    plt.plot(val_accuracies_cnn, label='Validation Accuracy')\n",
        "    plt.title('Validation Accuracy Per Epoch for CNN')\n",
        "    plt.xlabel('Epoch')\n",
        "    plt.ylabel('Accuracy')\n",
        "    plt.legend()\n",
        "    plt.savefig('accuracy_curve_cnn.png')\n",
        "    plt.show()\n",
        "    # Acuracy Curve DenseNet\n",
        "    plt.figure(figsize=(10, 5))\n",
        "    plt.plot(val_accuracies, label='Validation Accuracy')\n",
        "    plt.title('Validation Accuracy Per Epoch for DenseNet')\n",
        "    plt.xlabel('Epoch')\n",
        "    plt.ylabel('Accuracy')\n",
        "    plt.legend()\n",
        "    plt.savefig('accuracy_curve.png')\n",
        "    plt.show()\n",
        "\n",
        "    # Accuracy Comparission\n",
        "    plt.figure(figsize=(10, 5))\n",
        "    plt.plot(val_accuracies_cnn, label='CNN Validation Accuracy', color='blue')\n",
        "    plt.plot(val_accuracies, label='DenseNet Validation Accuracy', color='orange')\n",
        "    plt.title('Validation Accuracy Per Epoch for CNN and DenseNet')\n",
        "    plt.xlabel('Epoch')\n",
        "    plt.ylabel('Accuracy')\n",
        "    plt.legend()\n",
        "    plt.savefig('combined_accuracy_curve.png')\n",
        "    plt.show()\n",
        "\n",
        "    # Confusion Matrices\n",
        "    last_epoch_index_cnn = len(confusion_matrices_cnn) - 1  # Index of the last epoch's CNN confusion matrix\n",
        "    matrix_cnn = confusion_matrices_cnn[last_epoch_index_cnn]\n",
        "\n",
        "    df_cm_cnn = pd.DataFrame(matrix_cnn, index=['benign', 'malignant'], columns=['benign', 'malignant'])\n",
        "\n",
        "    plt.figure(figsize=(8, 6))\n",
        "    sns.heatmap(df_cm_cnn, annot=True, fmt='d', cmap='Blues')\n",
        "    plt.title(f'CNN Confusion Matrix - Epoch {last_epoch_index_cnn + 1}')  # Epoch index is 1-based\n",
        "    plt.xlabel('Predicted')\n",
        "    plt.ylabel('Actual')\n",
        "    plt.show()\n",
        "\n",
        "    last_epoch_index = len(confusion_matrices) - 1\n",
        "    matrix_other = confusion_matrices[last_epoch_index]\n",
        "\n",
        "    df_cm_other = pd.DataFrame(matrix_other, index=['benign', 'malignant'], columns=['benign', 'malignant'])\n",
        "\n",
        "    plt.figure(figsize=(8, 6))\n",
        "    sns.heatmap(df_cm_other, annot=True, fmt='d', cmap='Blues')\n",
        "    plt.title(f'Other Model Confusion Matrix - Epoch {last_epoch_index + 1}')\n",
        "    plt.xlabel('Predicted')\n",
        "    plt.ylabel('Actual')\n",
        "    plt.show()"
      ],
      "metadata": {
        "id": "NSX9FkZOReGk"
      },
      "execution_count": null,
      "outputs": []
    },
    {
      "cell_type": "markdown",
      "source": [
        "# Code Activation"
      ],
      "metadata": {
        "id": "ZIl1Y8eQTMFk"
      }
    },
    {
      "cell_type": "code",
      "source": [
        "if torch.cuda.is_available():\n",
        "    device = torch.device('cuda')\n",
        "    print(f\"Using GPU: {torch.cuda.get_device_name(0)}\")\n",
        "else:\n",
        "    device = torch.device('cpu')\n",
        "    print(\"Using CPU\")\n",
        "\n",
        "net = Classifier().to(device)\n",
        "#net_CNN = Classifier_CNN().to(device)\n",
        "\n",
        "train_net(net, device, epochs=20, batch_size=128, learning_rate=0.0002, val_percent=0.2, amp=True)\n",
        "#train_net_cnn(net_CNN, device, epochs=20, batch_size=128, learning_rate=0.0002, val_percent=0.2, amp=True)"
      ],
      "metadata": {
        "collapsed": true,
        "id": "ANhtDNC-TQ3F",
        "colab": {
          "base_uri": "https://localhost:8080/"
        },
        "outputId": "69603bb9-a32f-429c-9fe7-a631f2ee8b75"
      },
      "execution_count": null,
      "outputs": [
        {
          "output_type": "stream",
          "name": "stdout",
          "text": [
            "Using GPU: Tesla T4\n"
          ]
        },
        {
          "output_type": "stream",
          "name": "stderr",
          "text": [
            "Downloading: \"https://download.pytorch.org/models/densenet201-c1103571.pth\" to /root/.cache/torch/hub/checkpoints/densenet201-c1103571.pth\n",
            "100%|██████████| 77.4M/77.4M [00:01<00:00, 71.8MB/s]\n",
            "/usr/local/lib/python3.10/dist-packages/torch/optim/lr_scheduler.py:62: UserWarning: The verbose parameter is deprecated. Please use get_last_lr() to access the learning rate.\n",
            "  warnings.warn(\n",
            "<ipython-input-9-57abc2d4a43f>:40: FutureWarning: `torch.cuda.amp.GradScaler(args...)` is deprecated. Please use `torch.amp.GradScaler('cuda', args...)` instead.\n",
            "  grad_scaler = torch.cuda.amp.GradScaler(enabled=amp)\n"
          ]
        },
        {
          "output_type": "stream",
          "name": "stdout",
          "text": [
            "Starting training:\n",
            "        Epochs:          20\n",
            "        Batch size:      128\n",
            "        Learning rate:   0.0002\n",
            "        Training size:   651\n",
            "        Validation size: 162\n",
            "        Checkpoints:     True\n",
            "        Device:          cuda\n",
            "        Mixed Precision: True\n",
            "    \n"
          ]
        },
        {
          "output_type": "stream",
          "name": "stderr",
          "text": [
            "\rEpoch 1/20:   0%|          | 0/651 [00:00<?, ?img/s]<ipython-input-9-57abc2d4a43f>:66: FutureWarning: `torch.cuda.amp.autocast(args...)` is deprecated. Please use `torch.amp.autocast('cuda', args...)` instead.\n",
            "  with torch.cuda.amp.autocast(enabled=amp):\n",
            "/usr/local/lib/python3.10/dist-packages/torch/nn/modules/module.py:1736: UserWarning: Implicit dimension choice for softmax has been deprecated. Change the call to include dim=X as an argument.\n",
            "  return self._call_impl(*args, **kwargs)\n",
            "Epoch 1/20: 100%|██████████| 651/651 [00:27<00:00, 23.75img/s, loss=0.482]\n"
          ]
        },
        {
          "output_type": "stream",
          "name": "stdout",
          "text": [
            "Training Accuracy: 0.673\n"
          ]
        },
        {
          "output_type": "stream",
          "name": "stderr",
          "text": []
        },
        {
          "output_type": "stream",
          "name": "stdout",
          "text": [
            "Validation Accuracy: 0.828\n"
          ]
        },
        {
          "output_type": "stream",
          "name": "stderr",
          "text": [
            "\rEpoch 2/20:   0%|          | 0/651 [00:00<?, ?img/s]<ipython-input-9-57abc2d4a43f>:66: FutureWarning: `torch.cuda.amp.autocast(args...)` is deprecated. Please use `torch.amp.autocast('cuda', args...)` instead.\n",
            "  with torch.cuda.amp.autocast(enabled=amp):\n",
            "/usr/local/lib/python3.10/dist-packages/torch/nn/modules/module.py:1736: UserWarning: Implicit dimension choice for softmax has been deprecated. Change the call to include dim=X as an argument.\n",
            "  return self._call_impl(*args, **kwargs)\n",
            "Epoch 2/20: 100%|██████████| 651/651 [00:04<00:00, 139.56img/s, loss=0.361]\n"
          ]
        },
        {
          "output_type": "stream",
          "name": "stdout",
          "text": [
            "Training Accuracy: 0.962\n"
          ]
        },
        {
          "output_type": "stream",
          "name": "stderr",
          "text": []
        },
        {
          "output_type": "stream",
          "name": "stdout",
          "text": [
            "Validation Accuracy: 0.953\n"
          ]
        },
        {
          "output_type": "stream",
          "name": "stderr",
          "text": [
            "\rEpoch 3/20:   0%|          | 0/651 [00:00<?, ?img/s]<ipython-input-9-57abc2d4a43f>:66: FutureWarning: `torch.cuda.amp.autocast(args...)` is deprecated. Please use `torch.amp.autocast('cuda', args...)` instead.\n",
            "  with torch.cuda.amp.autocast(enabled=amp):\n",
            "/usr/local/lib/python3.10/dist-packages/torch/nn/modules/module.py:1736: UserWarning: Implicit dimension choice for softmax has been deprecated. Change the call to include dim=X as an argument.\n",
            "  return self._call_impl(*args, **kwargs)\n",
            "Epoch 3/20: 100%|██████████| 651/651 [00:04<00:00, 154.85img/s, loss=0.415]\n"
          ]
        },
        {
          "output_type": "stream",
          "name": "stdout",
          "text": [
            "Training Accuracy: 0.969\n"
          ]
        },
        {
          "output_type": "stream",
          "name": "stderr",
          "text": []
        },
        {
          "output_type": "stream",
          "name": "stdout",
          "text": [
            "Validation Accuracy: 0.953\n"
          ]
        },
        {
          "output_type": "stream",
          "name": "stderr",
          "text": [
            "\rEpoch 4/20:   0%|          | 0/651 [00:00<?, ?img/s]<ipython-input-9-57abc2d4a43f>:66: FutureWarning: `torch.cuda.amp.autocast(args...)` is deprecated. Please use `torch.amp.autocast('cuda', args...)` instead.\n",
            "  with torch.cuda.amp.autocast(enabled=amp):\n",
            "/usr/local/lib/python3.10/dist-packages/torch/nn/modules/module.py:1736: UserWarning: Implicit dimension choice for softmax has been deprecated. Change the call to include dim=X as an argument.\n",
            "  return self._call_impl(*args, **kwargs)\n",
            "Epoch 4/20: 100%|██████████| 651/651 [00:06<00:00, 106.73img/s, loss=0.323]\n"
          ]
        },
        {
          "output_type": "stream",
          "name": "stdout",
          "text": [
            "Training Accuracy: 0.975\n"
          ]
        },
        {
          "output_type": "stream",
          "name": "stderr",
          "text": []
        },
        {
          "output_type": "stream",
          "name": "stdout",
          "text": [
            "Validation Accuracy: 0.961\n"
          ]
        },
        {
          "output_type": "stream",
          "name": "stderr",
          "text": [
            "\rEpoch 5/20:   0%|          | 0/651 [00:00<?, ?img/s]<ipython-input-9-57abc2d4a43f>:66: FutureWarning: `torch.cuda.amp.autocast(args...)` is deprecated. Please use `torch.amp.autocast('cuda', args...)` instead.\n",
            "  with torch.cuda.amp.autocast(enabled=amp):\n",
            "/usr/local/lib/python3.10/dist-packages/torch/nn/modules/module.py:1736: UserWarning: Implicit dimension choice for softmax has been deprecated. Change the call to include dim=X as an argument.\n",
            "  return self._call_impl(*args, **kwargs)\n",
            "Epoch 5/20: 100%|██████████| 651/651 [00:04<00:00, 156.37img/s, loss=0.321]\n"
          ]
        },
        {
          "output_type": "stream",
          "name": "stdout",
          "text": [
            "Training Accuracy: 0.975\n"
          ]
        },
        {
          "output_type": "stream",
          "name": "stderr",
          "text": []
        },
        {
          "output_type": "stream",
          "name": "stdout",
          "text": [
            "Validation Accuracy: 0.953\n"
          ]
        },
        {
          "output_type": "stream",
          "name": "stderr",
          "text": [
            "\rEpoch 6/20:   0%|          | 0/651 [00:00<?, ?img/s]<ipython-input-9-57abc2d4a43f>:66: FutureWarning: `torch.cuda.amp.autocast(args...)` is deprecated. Please use `torch.amp.autocast('cuda', args...)` instead.\n",
            "  with torch.cuda.amp.autocast(enabled=amp):\n",
            "/usr/local/lib/python3.10/dist-packages/torch/nn/modules/module.py:1736: UserWarning: Implicit dimension choice for softmax has been deprecated. Change the call to include dim=X as an argument.\n",
            "  return self._call_impl(*args, **kwargs)\n",
            "Epoch 6/20: 100%|██████████| 651/651 [00:05<00:00, 123.66img/s, loss=0.324]\n"
          ]
        },
        {
          "output_type": "stream",
          "name": "stdout",
          "text": [
            "Training Accuracy: 0.986\n"
          ]
        },
        {
          "output_type": "stream",
          "name": "stderr",
          "text": []
        },
        {
          "output_type": "stream",
          "name": "stdout",
          "text": [
            "Validation Accuracy: 0.961\n"
          ]
        },
        {
          "output_type": "stream",
          "name": "stderr",
          "text": [
            "\rEpoch 7/20:   0%|          | 0/651 [00:00<?, ?img/s]<ipython-input-9-57abc2d4a43f>:66: FutureWarning: `torch.cuda.amp.autocast(args...)` is deprecated. Please use `torch.amp.autocast('cuda', args...)` instead.\n",
            "  with torch.cuda.amp.autocast(enabled=amp):\n",
            "/usr/local/lib/python3.10/dist-packages/torch/nn/modules/module.py:1736: UserWarning: Implicit dimension choice for softmax has been deprecated. Change the call to include dim=X as an argument.\n",
            "  return self._call_impl(*args, **kwargs)\n",
            "Epoch 7/20: 100%|██████████| 651/651 [00:04<00:00, 136.31img/s, loss=0.32]\n"
          ]
        },
        {
          "output_type": "stream",
          "name": "stdout",
          "text": [
            "Training Accuracy: 0.975\n"
          ]
        },
        {
          "output_type": "stream",
          "name": "stderr",
          "text": []
        },
        {
          "output_type": "stream",
          "name": "stdout",
          "text": [
            "Validation Accuracy: 0.953\n"
          ]
        },
        {
          "output_type": "stream",
          "name": "stderr",
          "text": [
            "\rEpoch 8/20:   0%|          | 0/651 [00:00<?, ?img/s]<ipython-input-9-57abc2d4a43f>:66: FutureWarning: `torch.cuda.amp.autocast(args...)` is deprecated. Please use `torch.amp.autocast('cuda', args...)` instead.\n",
            "  with torch.cuda.amp.autocast(enabled=amp):\n",
            "/usr/local/lib/python3.10/dist-packages/torch/nn/modules/module.py:1736: UserWarning: Implicit dimension choice for softmax has been deprecated. Change the call to include dim=X as an argument.\n",
            "  return self._call_impl(*args, **kwargs)\n",
            "Epoch 8/20: 100%|██████████| 651/651 [00:04<00:00, 141.59img/s, loss=0.316]\n"
          ]
        },
        {
          "output_type": "stream",
          "name": "stdout",
          "text": [
            "Training Accuracy: 0.975\n"
          ]
        },
        {
          "output_type": "stream",
          "name": "stderr",
          "text": []
        },
        {
          "output_type": "stream",
          "name": "stdout",
          "text": [
            "Validation Accuracy: 0.945\n"
          ]
        },
        {
          "output_type": "stream",
          "name": "stderr",
          "text": [
            "\rEpoch 9/20:   0%|          | 0/651 [00:00<?, ?img/s]<ipython-input-9-57abc2d4a43f>:66: FutureWarning: `torch.cuda.amp.autocast(args...)` is deprecated. Please use `torch.amp.autocast('cuda', args...)` instead.\n",
            "  with torch.cuda.amp.autocast(enabled=amp):\n",
            "/usr/local/lib/python3.10/dist-packages/torch/nn/modules/module.py:1736: UserWarning: Implicit dimension choice for softmax has been deprecated. Change the call to include dim=X as an argument.\n",
            "  return self._call_impl(*args, **kwargs)\n",
            "Epoch 9/20: 100%|██████████| 651/651 [00:05<00:00, 111.90img/s, loss=0.316]\n"
          ]
        },
        {
          "output_type": "stream",
          "name": "stdout",
          "text": [
            "Training Accuracy: 0.982\n"
          ]
        },
        {
          "output_type": "stream",
          "name": "stderr",
          "text": []
        },
        {
          "output_type": "stream",
          "name": "stdout",
          "text": [
            "Validation Accuracy: 0.984\n"
          ]
        },
        {
          "output_type": "stream",
          "name": "stderr",
          "text": [
            "\rEpoch 10/20:   0%|          | 0/651 [00:00<?, ?img/s]<ipython-input-9-57abc2d4a43f>:66: FutureWarning: `torch.cuda.amp.autocast(args...)` is deprecated. Please use `torch.amp.autocast('cuda', args...)` instead.\n",
            "  with torch.cuda.amp.autocast(enabled=amp):\n",
            "/usr/local/lib/python3.10/dist-packages/torch/nn/modules/module.py:1736: UserWarning: Implicit dimension choice for softmax has been deprecated. Change the call to include dim=X as an argument.\n",
            "  return self._call_impl(*args, **kwargs)\n",
            "Epoch 10/20: 100%|██████████| 651/651 [00:04<00:00, 144.16img/s, loss=0.409]\n"
          ]
        },
        {
          "output_type": "stream",
          "name": "stdout",
          "text": [
            "Training Accuracy: 0.989\n"
          ]
        },
        {
          "output_type": "stream",
          "name": "stderr",
          "text": []
        },
        {
          "output_type": "stream",
          "name": "stdout",
          "text": [
            "Validation Accuracy: 0.961\n"
          ]
        },
        {
          "output_type": "stream",
          "name": "stderr",
          "text": [
            "\rEpoch 11/20:   0%|          | 0/651 [00:00<?, ?img/s]<ipython-input-9-57abc2d4a43f>:66: FutureWarning: `torch.cuda.amp.autocast(args...)` is deprecated. Please use `torch.amp.autocast('cuda', args...)` instead.\n",
            "  with torch.cuda.amp.autocast(enabled=amp):\n",
            "/usr/local/lib/python3.10/dist-packages/torch/nn/modules/module.py:1736: UserWarning: Implicit dimension choice for softmax has been deprecated. Change the call to include dim=X as an argument.\n",
            "  return self._call_impl(*args, **kwargs)\n",
            "Epoch 11/20: 100%|██████████| 651/651 [00:05<00:00, 118.50img/s, loss=0.32]\n"
          ]
        },
        {
          "output_type": "stream",
          "name": "stdout",
          "text": [
            "Training Accuracy: 0.988\n"
          ]
        },
        {
          "output_type": "stream",
          "name": "stderr",
          "text": []
        },
        {
          "output_type": "stream",
          "name": "stdout",
          "text": [
            "Validation Accuracy: 0.969\n"
          ]
        },
        {
          "output_type": "stream",
          "name": "stderr",
          "text": [
            "\rEpoch 12/20:   0%|          | 0/651 [00:00<?, ?img/s]<ipython-input-9-57abc2d4a43f>:66: FutureWarning: `torch.cuda.amp.autocast(args...)` is deprecated. Please use `torch.amp.autocast('cuda', args...)` instead.\n",
            "  with torch.cuda.amp.autocast(enabled=amp):\n",
            "/usr/local/lib/python3.10/dist-packages/torch/nn/modules/module.py:1736: UserWarning: Implicit dimension choice for softmax has been deprecated. Change the call to include dim=X as an argument.\n",
            "  return self._call_impl(*args, **kwargs)\n",
            "Epoch 12/20: 100%|██████████| 651/651 [00:04<00:00, 141.65img/s, loss=0.316]\n"
          ]
        },
        {
          "output_type": "stream",
          "name": "stdout",
          "text": [
            "Training Accuracy: 0.985\n"
          ]
        },
        {
          "output_type": "stream",
          "name": "stderr",
          "text": []
        },
        {
          "output_type": "stream",
          "name": "stdout",
          "text": [
            "Validation Accuracy: 0.984\n"
          ]
        },
        {
          "output_type": "stream",
          "name": "stderr",
          "text": [
            "\rEpoch 13/20:   0%|          | 0/651 [00:00<?, ?img/s]<ipython-input-9-57abc2d4a43f>:66: FutureWarning: `torch.cuda.amp.autocast(args...)` is deprecated. Please use `torch.amp.autocast('cuda', args...)` instead.\n",
            "  with torch.cuda.amp.autocast(enabled=amp):\n",
            "/usr/local/lib/python3.10/dist-packages/torch/nn/modules/module.py:1736: UserWarning: Implicit dimension choice for softmax has been deprecated. Change the call to include dim=X as an argument.\n",
            "  return self._call_impl(*args, **kwargs)\n",
            "Epoch 13/20: 100%|██████████| 651/651 [00:04<00:00, 143.34img/s, loss=0.364]\n"
          ]
        },
        {
          "output_type": "stream",
          "name": "stdout",
          "text": [
            "Training Accuracy: 0.989\n"
          ]
        },
        {
          "output_type": "stream",
          "name": "stderr",
          "text": []
        },
        {
          "output_type": "stream",
          "name": "stdout",
          "text": [
            "Validation Accuracy: 0.992\n"
          ]
        },
        {
          "output_type": "stream",
          "name": "stderr",
          "text": [
            "\rEpoch 14/20:   0%|          | 0/651 [00:00<?, ?img/s]<ipython-input-9-57abc2d4a43f>:66: FutureWarning: `torch.cuda.amp.autocast(args...)` is deprecated. Please use `torch.amp.autocast('cuda', args...)` instead.\n",
            "  with torch.cuda.amp.autocast(enabled=amp):\n",
            "/usr/local/lib/python3.10/dist-packages/torch/nn/modules/module.py:1736: UserWarning: Implicit dimension choice for softmax has been deprecated. Change the call to include dim=X as an argument.\n",
            "  return self._call_impl(*args, **kwargs)\n",
            "Epoch 14/20: 100%|██████████| 651/651 [00:04<00:00, 138.82img/s, loss=0.316]\n"
          ]
        },
        {
          "output_type": "stream",
          "name": "stdout",
          "text": [
            "Training Accuracy: 0.988\n"
          ]
        },
        {
          "output_type": "stream",
          "name": "stderr",
          "text": []
        },
        {
          "output_type": "stream",
          "name": "stdout",
          "text": [
            "Validation Accuracy: 0.977\n"
          ]
        },
        {
          "output_type": "stream",
          "name": "stderr",
          "text": [
            "\rEpoch 15/20:   0%|          | 0/651 [00:00<?, ?img/s]<ipython-input-9-57abc2d4a43f>:66: FutureWarning: `torch.cuda.amp.autocast(args...)` is deprecated. Please use `torch.amp.autocast('cuda', args...)` instead.\n",
            "  with torch.cuda.amp.autocast(enabled=amp):\n",
            "/usr/local/lib/python3.10/dist-packages/torch/nn/modules/module.py:1736: UserWarning: Implicit dimension choice for softmax has been deprecated. Change the call to include dim=X as an argument.\n",
            "  return self._call_impl(*args, **kwargs)\n",
            "Epoch 15/20: 100%|██████████| 651/651 [00:04<00:00, 157.11img/s, loss=0.347]\n"
          ]
        },
        {
          "output_type": "stream",
          "name": "stdout",
          "text": [
            "Training Accuracy: 0.989\n"
          ]
        },
        {
          "output_type": "stream",
          "name": "stderr",
          "text": []
        },
        {
          "output_type": "stream",
          "name": "stdout",
          "text": [
            "Validation Accuracy: 0.977\n"
          ]
        },
        {
          "output_type": "stream",
          "name": "stderr",
          "text": [
            "\rEpoch 16/20:   0%|          | 0/651 [00:00<?, ?img/s]<ipython-input-9-57abc2d4a43f>:66: FutureWarning: `torch.cuda.amp.autocast(args...)` is deprecated. Please use `torch.amp.autocast('cuda', args...)` instead.\n",
            "  with torch.cuda.amp.autocast(enabled=amp):\n",
            "/usr/local/lib/python3.10/dist-packages/torch/nn/modules/module.py:1736: UserWarning: Implicit dimension choice for softmax has been deprecated. Change the call to include dim=X as an argument.\n",
            "  return self._call_impl(*args, **kwargs)\n",
            "Epoch 16/20: 100%|██████████| 651/651 [00:05<00:00, 117.37img/s, loss=0.32]\n"
          ]
        },
        {
          "output_type": "stream",
          "name": "stdout",
          "text": [
            "Training Accuracy: 0.991\n"
          ]
        },
        {
          "output_type": "stream",
          "name": "stderr",
          "text": []
        },
        {
          "output_type": "stream",
          "name": "stdout",
          "text": [
            "Validation Accuracy: 0.977\n"
          ]
        },
        {
          "output_type": "stream",
          "name": "stderr",
          "text": [
            "\rEpoch 17/20:   0%|          | 0/651 [00:00<?, ?img/s]<ipython-input-9-57abc2d4a43f>:66: FutureWarning: `torch.cuda.amp.autocast(args...)` is deprecated. Please use `torch.amp.autocast('cuda', args...)` instead.\n",
            "  with torch.cuda.amp.autocast(enabled=amp):\n",
            "/usr/local/lib/python3.10/dist-packages/torch/nn/modules/module.py:1736: UserWarning: Implicit dimension choice for softmax has been deprecated. Change the call to include dim=X as an argument.\n",
            "  return self._call_impl(*args, **kwargs)\n",
            "Epoch 17/20: 100%|██████████| 651/651 [00:04<00:00, 150.38img/s, loss=0.318]\n"
          ]
        },
        {
          "output_type": "stream",
          "name": "stdout",
          "text": [
            "Training Accuracy: 0.988\n"
          ]
        },
        {
          "output_type": "stream",
          "name": "stderr",
          "text": []
        },
        {
          "output_type": "stream",
          "name": "stdout",
          "text": [
            "Validation Accuracy: 0.977\n"
          ]
        },
        {
          "output_type": "stream",
          "name": "stderr",
          "text": [
            "\rEpoch 18/20:   0%|          | 0/651 [00:00<?, ?img/s]<ipython-input-9-57abc2d4a43f>:66: FutureWarning: `torch.cuda.amp.autocast(args...)` is deprecated. Please use `torch.amp.autocast('cuda', args...)` instead.\n",
            "  with torch.cuda.amp.autocast(enabled=amp):\n",
            "/usr/local/lib/python3.10/dist-packages/torch/nn/modules/module.py:1736: UserWarning: Implicit dimension choice for softmax has been deprecated. Change the call to include dim=X as an argument.\n",
            "  return self._call_impl(*args, **kwargs)\n",
            "Epoch 18/20: 100%|██████████| 651/651 [00:06<00:00, 103.79img/s, loss=0.317]\n"
          ]
        },
        {
          "output_type": "stream",
          "name": "stdout",
          "text": [
            "Training Accuracy: 0.991\n"
          ]
        },
        {
          "output_type": "stream",
          "name": "stderr",
          "text": []
        },
        {
          "output_type": "stream",
          "name": "stdout",
          "text": [
            "Validation Accuracy: 0.984\n"
          ]
        },
        {
          "output_type": "stream",
          "name": "stderr",
          "text": [
            "\rEpoch 19/20:   0%|          | 0/651 [00:00<?, ?img/s]<ipython-input-9-57abc2d4a43f>:66: FutureWarning: `torch.cuda.amp.autocast(args...)` is deprecated. Please use `torch.amp.autocast('cuda', args...)` instead.\n",
            "  with torch.cuda.amp.autocast(enabled=amp):\n",
            "/usr/local/lib/python3.10/dist-packages/torch/nn/modules/module.py:1736: UserWarning: Implicit dimension choice for softmax has been deprecated. Change the call to include dim=X as an argument.\n",
            "  return self._call_impl(*args, **kwargs)\n",
            "Epoch 19/20: 100%|██████████| 651/651 [00:04<00:00, 153.55img/s, loss=0.319]\n"
          ]
        },
        {
          "output_type": "stream",
          "name": "stdout",
          "text": [
            "Training Accuracy: 0.991\n"
          ]
        },
        {
          "output_type": "stream",
          "name": "stderr",
          "text": []
        },
        {
          "output_type": "stream",
          "name": "stdout",
          "text": [
            "Validation Accuracy: 0.984\n"
          ]
        },
        {
          "output_type": "stream",
          "name": "stderr",
          "text": [
            "\rEpoch 20/20:   0%|          | 0/651 [00:00<?, ?img/s]<ipython-input-9-57abc2d4a43f>:66: FutureWarning: `torch.cuda.amp.autocast(args...)` is deprecated. Please use `torch.amp.autocast('cuda', args...)` instead.\n",
            "  with torch.cuda.amp.autocast(enabled=amp):\n",
            "/usr/local/lib/python3.10/dist-packages/torch/nn/modules/module.py:1736: UserWarning: Implicit dimension choice for softmax has been deprecated. Change the call to include dim=X as an argument.\n",
            "  return self._call_impl(*args, **kwargs)\n",
            "Epoch 20/20: 100%|██████████| 651/651 [00:05<00:00, 124.99img/s, loss=0.402]\n"
          ]
        },
        {
          "output_type": "stream",
          "name": "stdout",
          "text": [
            "Training Accuracy: 0.988\n"
          ]
        },
        {
          "output_type": "stream",
          "name": "stderr",
          "text": []
        },
        {
          "output_type": "stream",
          "name": "stdout",
          "text": [
            "Validation Accuracy: 0.977\n",
            "Training complete.\n"
          ]
        }
      ]
    },
    {
      "cell_type": "code",
      "source": [
        "plot_metrics()"
      ],
      "metadata": {
        "collapsed": true,
        "id": "8JCcyXUEaoJ_",
        "colab": {
          "base_uri": "https://localhost:8080/",
          "height": 737
        },
        "outputId": "0a1fc7d5-9773-447b-bc78-376988d49374"
      },
      "execution_count": null,
      "outputs": [
        {
          "output_type": "display_data",
          "data": {
            "text/plain": [
              "<Figure size 1000x500 with 1 Axes>"
            ],
            "image/png": "[encoded data removed]"
          },
          "metadata": {}
        },
        {
          "output_type": "error",
          "ename": "NameError",
          "evalue": "name 'train_losses_per_epoch_cnn' is not defined",
          "traceback": [
            "\u001b[0;31m---------------------------------------------------------------------------\u001b[0m",
            "\u001b[0;31mNameError\u001b[0m                                 Traceback (most recent call last)",
            "\u001b[0;32m<ipython-input-15-055a08ecfe05>\u001b[0m in \u001b[0;36m<cell line: 1>\u001b[0;34m()\u001b[0m\n\u001b[0;32m----> 1\u001b[0;31m \u001b[0mplot_metrics\u001b[0m\u001b[0;34m(\u001b[0m\u001b[0;34m)\u001b[0m\u001b[0;34m\u001b[0m\u001b[0;34m\u001b[0m\u001b[0m\n\u001b[0m",
            "\u001b[0;32m<ipython-input-13-c28fc67feceb>\u001b[0m in \u001b[0;36mplot_metrics\u001b[0;34m()\u001b[0m\n\u001b[1;32m     16\u001b[0m     \u001b[0;31m# Loss Curve CNN\u001b[0m\u001b[0;34m\u001b[0m\u001b[0;34m\u001b[0m\u001b[0m\n\u001b[1;32m     17\u001b[0m     \u001b[0mplt\u001b[0m\u001b[0;34m.\u001b[0m\u001b[0mfigure\u001b[0m\u001b[0;34m(\u001b[0m\u001b[0mfigsize\u001b[0m\u001b[0;34m=\u001b[0m\u001b[0;34m(\u001b[0m\u001b[0;36m10\u001b[0m\u001b[0;34m,\u001b[0m \u001b[0;36m5\u001b[0m\u001b[0;34m)\u001b[0m\u001b[0;34m)\u001b[0m\u001b[0;34m\u001b[0m\u001b[0;34m\u001b[0m\u001b[0m\n\u001b[0;32m---> 18\u001b[0;31m     \u001b[0mplt\u001b[0m\u001b[0;34m.\u001b[0m\u001b[0mplot\u001b[0m\u001b[0;34m(\u001b[0m\u001b[0mtrain_losses_per_epoch_cnn\u001b[0m\u001b[0;34m,\u001b[0m \u001b[0mlabel\u001b[0m\u001b[0;34m=\u001b[0m\u001b[0;34m'Train Loss'\u001b[0m\u001b[0;34m)\u001b[0m\u001b[0;34m\u001b[0m\u001b[0;34m\u001b[0m\u001b[0m\n\u001b[0m\u001b[1;32m     19\u001b[0m     \u001b[0mplt\u001b[0m\u001b[0;34m.\u001b[0m\u001b[0mplot\u001b[0m\u001b[0;34m(\u001b[0m\u001b[0mval_losses_per_epoch_cnn\u001b[0m\u001b[0;34m,\u001b[0m \u001b[0mlabel\u001b[0m\u001b[0;34m=\u001b[0m\u001b[0;34m'Validation Loss'\u001b[0m\u001b[0;34m)\u001b[0m\u001b[0;34m\u001b[0m\u001b[0;34m\u001b[0m\u001b[0m\n\u001b[1;32m     20\u001b[0m     \u001b[0mplt\u001b[0m\u001b[0;34m.\u001b[0m\u001b[0mtitle\u001b[0m\u001b[0;34m(\u001b[0m\u001b[0;34m'Loss Per Epoch Custom CNN'\u001b[0m\u001b[0;34m)\u001b[0m\u001b[0;34m\u001b[0m\u001b[0;34m\u001b[0m\u001b[0m\n",
            "\u001b[0;31mNameError\u001b[0m: name 'train_losses_per_epoch_cnn' is not defined"
          ]
        },
        {
          "output_type": "display_data",
          "data": {
            "text/plain": [
              "<Figure size 1000x500 with 0 Axes>"
            ]
          },
          "metadata": {}
        }
      ]
    },
    {
      "cell_type": "code",
      "source": [],
      "metadata": {
        "id": "38FfkGrq7Gdp"
      },
      "execution_count": null,
      "outputs": []
    }
  ]
}
